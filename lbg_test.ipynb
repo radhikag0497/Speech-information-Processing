{
 "cells": [
  {
   "cell_type": "markdown",
   "metadata": {},
   "source": [
    "# Linde-Buzo-Gray Lib Tests\n",
    "\n",
    "## Generate codebooks of different size from fixed 3D-data"
   ]
  },
  {
   "cell_type": "code",
   "execution_count": 2,
   "metadata": {},
   "outputs": [
    {
     "name": "stdout",
     "output_type": "stream",
     "text": [
      "generating codebook for size 1\n",
      "output:\n",
      "> [0.375, -0.375, 0.6624999999999999], abs_weight=8, rel_weight=1.000000\n",
      "generating codebook for size 2\n",
      "output:\n",
      "> [0.5, 1.625, 3.4499999999999997], abs_weight=4, rel_weight=0.500000\n",
      "> [0.25, -2.375, -2.125], abs_weight=4, rel_weight=0.500000\n",
      "generating codebook for size 4\n",
      "output:\n",
      "> [-0.25, 2.0, 5.3], abs_weight=2, rel_weight=0.250000\n",
      "> [1.25, 1.25, 1.6], abs_weight=2, rel_weight=0.250000\n",
      "> [1.0, -2.5, -2.833333333333333], abs_weight=3, rel_weight=0.375000\n",
      "> [-2.0, -2.0, 0.0], abs_weight=1, rel_weight=0.125000\n",
      "generating codebook for size 8\n",
      "output:\n",
      "> [1.0, 2.0, 5.6], abs_weight=1, rel_weight=0.125000\n",
      "> [-1.5, 2.0, 5.0], abs_weight=1, rel_weight=0.125000\n",
      "> [1.0, 1.0, 2.0], abs_weight=1, rel_weight=0.125000\n",
      "> [1.5, 1.5, 1.2], abs_weight=1, rel_weight=0.125000\n",
      "> [1.0, -2.5, -4.5], abs_weight=1, rel_weight=0.125000\n",
      "> [1.0, -2.5, -2.0], abs_weight=2, rel_weight=0.250000\n",
      "> [-2.00002, -2.00002, 0.0], abs_weight=0, rel_weight=0.000000\n",
      "> [-2.0, -2.0, 0.0], abs_weight=1, rel_weight=0.125000\n"
     ]
    }
   ],
   "source": [
    "import lbg \n",
    "\n",
    "testdata = [(-1.5, 2.0, 5.0),\n",
    "            (-2.0, -2.0, 0.0),\n",
    "            (1.0, 1.0, 2.0),\n",
    "            (1.5, 1.5, 1.2),\n",
    "            (1.0, 2.0, 5.6),\n",
    "            (1.0, -2.0, -2.0),\n",
    "            (1.0, -3.0, -2.0),\n",
    "            (1.0, -2.5, -4.5)]\n",
    "\n",
    "for cb_size in (1, 2, 4, 8):\n",
    "    print('generating codebook for size', cb_size)\n",
    "    cb, cb_abs_w, cb_rel_w = lbg.generate_codebook(testdata, cb_size)\n",
    "    print('output:')\n",
    "    for i, c in enumerate(cb):\n",
    "        print('> %s, abs_weight=%d, rel_weight=%f' % (c, cb_abs_w[i], cb_rel_w[i]))"
   ]
  },
  {
   "cell_type": "markdown",
   "metadata": {},
   "source": [
    "## Generate codebook for random Gauss distribution"
   ]
  },
  {
   "cell_type": "code",
   "execution_count": 8,
   "metadata": {},
   "outputs": [
    {
     "name": "stdout",
     "output_type": "stream",
     "text": [
      "CPU times: user 6.89 ms, sys: 139 µs, total: 7.03 ms\n",
      "Wall time: 7.17 ms\n"
     ]
    },
    {
     "data": {
      "image/png": "[encoded data removed]",
      "text/plain": [
       "<matplotlib.figure.Figure at 0x10cb571d0>"
      ]
     },
     "metadata": {},
     "output_type": "display_data"
    }
   ],
   "source": [
    "import matplotlib.pyplot as plt\n",
    "\n",
    "import random\n",
    "import lbg\n",
    "\n",
    "%matplotlib inline\n",
    "\n",
    "N = 40   # population size\n",
    "SIZE_CODEBOOK = 8\n",
    "\n",
    "random.seed(0)\n",
    "\n",
    "# generate random Gauss distribution with µ=0, sigma=1\n",
    "population = [(random.gauss(0, 1), random.gauss(0, 1))\n",
    "              for _ in range(N)]\n",
    "\n",
    "# display population as blue crosses\n",
    "plt.scatter([p[0] for p in population], [p[1] for p in population], marker='x', color='blue')\n",
    "\n",
    "# generate codebook\n",
    "%time cb, cb_abs_w, cb_rel_w = lbg.generate_codebook(population, SIZE_CODEBOOK)\n",
    "\n",
    "# display codebook as red filled circles\n",
    "# codevectors with higher weight (more points near them) get bigger radius\n",
    "plt.scatter([p[0] for p in cb], [p[1] for p in cb], s=[((w+1) ** 5) * 40 for w in cb_rel_w], marker='o', color='red')\n",
    "\n",
    "plt.show()"
   ]
  },
  {
   "cell_type": "markdown",
   "metadata": {},
   "source": [
    "## Generate codebook for population that is centered in several areas"
   ]
  },
  {
   "cell_type": "code",
   "execution_count": 10,
   "metadata": {},
   "outputs": [
    {
     "name": "stdout",
     "output_type": "stream",
     "text": [
      "CPU times: user 8.75 ms, sys: 227 µs, total: 8.98 ms\n",
      "Wall time: 8.87 ms\n"
     ]
    },
    {
     "data": {
      "image/png": "[encoded data removed]",
      "text/plain": [
       "<matplotlib.figure.Figure at 0x11011c630>"
      ]
     },
     "metadata": {},
     "output_type": "display_data"
    }
   ],
   "source": [
    "import random\n",
    "import matplotlib.pyplot as plt\n",
    "\n",
    "import lbg\n",
    "\n",
    "%matplotlib inline\n",
    "\n",
    "NUM_AREAS = 8\n",
    "NUM_POINTS_PER_AREA = 10\n",
    "SIZE_CODEBOOK = 8\n",
    "AREA_MIN_MAX = ((-20, 20), (-20, 20))\n",
    "\n",
    "random.seed(0)\n",
    "\n",
    "# create random centroids for NUM_AREAS areas\n",
    "area_centroids = [(random.uniform(*AREA_MIN_MAX[0]), random.uniform(*AREA_MIN_MAX[1]))\n",
    "                  for _ in range(NUM_AREAS)]\n",
    "\n",
    "# display random centroids as orange cicles\n",
    "plt.scatter([p[0] for p in area_centroids], [p[1] for p in area_centroids], marker='o', color='orange')\n",
    "\n",
    "# create whole population\n",
    "population = []\n",
    "for c in area_centroids:\n",
    "    # create random points around the centroid c\n",
    "    area_points = [(random.gauss(c[0], 1.0), random.gauss(c[1], 1.0)) for _ in range(NUM_POINTS_PER_AREA)]\n",
    "    population.extend(area_points)\n",
    "\n",
    "# display the population as blue crosses\n",
    "plt.scatter([p[0] for p in population], [p[1] for p in population], marker='x', color='blue')\n",
    "\n",
    "# generate codebook\n",
    "%time cb, cb_abs_w, cb_rel_w = lbg.generate_codebook(population, SIZE_CODEBOOK)\n",
    "\n",
    "# display codebook as red filled circles\n",
    "# codevectors with higher weight (more points near them) get bigger radius\n",
    "plt.scatter([p[0] for p in cb], [p[1] for p in cb], s=[((w+1) ** 5) * 40 for w in cb_rel_w], marker='o', color='red')\n",
    "\n",
    "plt.show()\n"
   ]
  },
  {
   "cell_type": "code",
   "execution_count": null,
   "metadata": {
    "collapsed": true
   },
   "outputs": [],
   "source": []
  }
 ],
 "metadata": {
  "kernelspec": {
   "display_name": "Python 3",
   "language": "python",
   "name": "python3"
  },
  "language_info": {
   "codemirror_mode": {
    "name": "ipython",
    "version": 3
   },
   "file_extension": ".py",
   "mimetype": "text/x-python",
   "name": "python",
   "nbconvert_exporter": "python",
   "pygments_lexer": "ipython3",
   "version": "3.8.6"
  }
 },
 "nbformat": 4,
 "nbformat_minor": 1
}
